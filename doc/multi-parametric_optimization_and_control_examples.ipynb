{
 "cells": [
  {
   "cell_type": "code",
   "execution_count": null,
   "metadata": {},
   "outputs": [],
   "source": [
    "from sys import path\n",
    "from os import getcwd\n",
    "from typing import Union\n",
    "from pickle import load, dump, HIGHEST_PROTOCOL\n",
    "\n",
    "import numpy as np\n",
    "from scipy.linalg import solve_discrete_are, block_diag\n",
    "\n",
    "PROJECT_DIR = getcwd() + '/..'\n",
    "path.append(PROJECT_DIR)\n",
    "from library.ppopt.src.ppopt.mpqp_program import MPQP_Program\n",
    "from library.ppopt.src.ppopt.mp_solvers.solve_mpqp import solve_mpqp, mpqp_algorithm"
   ]
  },
  {
   "attachments": {},
   "cell_type": "markdown",
   "metadata": {},
   "source": [
    "#### Define functions to help solve mpc problems"
   ]
  },
  {
   "cell_type": "code",
   "execution_count": null,
   "metadata": {},
   "outputs": [],
   "source": [
    "def make_LQR_MPC_QP(\n",
    "        stat_mat: np.ndarray, ctrl_mat: np.ndarray, ricc_wgt: np.ndarray,\n",
    "        stat_wgt: np.ndarray, ctrl_wgt: np.ndarray, num_step: int,\n",
    "        all_t_input_cmat: np.ndarray, all_t_input_cvec: np.ndarray,\n",
    "        initl_state_cmat: np.ndarray, initl_state_cvec: np.ndarray,\n",
    "        all_t_state_cmat: Union[np.ndarray, None]=None,\n",
    "        all_t_state_cvec: Union[np.ndarray, None]=None,\n",
    "        final_state_cmat: Union[np.ndarray, None]=None,\n",
    "        final_state_cvec: Union[np.ndarray, None]=None) \\\n",
    "    -> np.ndarray:\n",
    "\n",
    "    if all_t_state_cmat is None or all_t_state_cvec is None:\n",
    "        all_t_state_cmat = np.empty((0, stat_mat.shape[0]), float)\n",
    "        all_t_state_cvec = np.empty((0,), float)\n",
    "    if final_state_cmat is None or final_state_cvec is None:\n",
    "        final_state_cmat = np.empty((0, stat_mat.shape[0]), float)\n",
    "        final_state_cvec = np.empty((0,), float)\n",
    "\n",
    "    Bk = np.zeros((ctrl_mat.shape[0], ctrl_mat.shape[1]*num_step), float)\n",
    "\n",
    "    num_inpt = all_t_input_cvec.size\n",
    "\n",
    "    alts_off = 0\n",
    "    inpt_off = alts_off + all_t_state_cvec.size*num_step\n",
    "    cnst_off = inpt_off + all_t_input_cvec.size*num_step\n",
    "    G = np.zeros((cnst_off + final_state_cvec.size, ctrl_mat.shape[1]*num_step), float)\n",
    "    S = np.zeros((cnst_off + final_state_cvec.size, stat_mat.shape[1]), float)\n",
    "\n",
    "    Ak = stat_mat\n",
    "    cycslice = np.r_[-ctrl_mat.shape[1]:(ctrl_mat.shape[1]*num_step + -ctrl_mat.shape[1])]\n",
    "    Bk[:,cycslice[:ctrl_mat.shape[1]]] = ctrl_mat\n",
    "\n",
    "    H = Bk[:,cycslice].T@stat_wgt@Bk[:,cycslice]\n",
    "    Z = Bk[:,cycslice].T@(stat_wgt + stat_wgt.T)@Ak\n",
    "    M = Ak.T@stat_wgt@Ak\n",
    "\n",
    "    G[:all_t_state_cvec.size,:] = all_t_state_cmat@Bk[:,cycslice]\n",
    "\n",
    "    S[:all_t_state_cvec.size,:] = -all_t_state_cmat@Ak\n",
    "\n",
    "    for indx in range(1, num_step - 1, 1):\n",
    "\n",
    "        Ak = stat_mat@Ak\n",
    "        indy = -(indx + 1)\n",
    "        cycslice = np.r_[indy*ctrl_mat.shape[1]:(indy*ctrl_mat.shape[1] + ctrl_mat.shape[1]*num_step)]\n",
    "        Bk[:,cycslice[:ctrl_mat.shape[1]]] = stat_mat@Bk[:,cycslice[ctrl_mat.shape[1]:2*ctrl_mat.shape[1]]]\n",
    "\n",
    "        H += Bk[:,cycslice].T@stat_wgt@Bk[:,cycslice]\n",
    "        Z += Bk[:,cycslice].T@(stat_wgt + stat_wgt.T)@Ak\n",
    "        M += Ak.T@stat_wgt@Ak\n",
    "\n",
    "        G[indx*all_t_state_cvec.size:(indx + 1)*all_t_state_cvec.size,:] \\\n",
    "            = all_t_state_cmat@Bk[:,cycslice]\n",
    "\n",
    "        S[indx*all_t_state_cvec.size:(indx + 1)*all_t_state_cvec.size,:] \\\n",
    "            = -all_t_state_cmat@Ak\n",
    "\n",
    "    Ak = stat_mat@Ak\n",
    "    Bk[:,:ctrl_mat.shape[1]] = stat_mat@Bk[:,ctrl_mat.shape[1]:2*ctrl_mat.shape[1]]\n",
    "\n",
    "    H += Bk.T@ricc_wgt@Bk\n",
    "    H += block_diag(*((ctrl_wgt,)*num_step))\n",
    "    Z += Bk.T@(ricc_wgt + ricc_wgt.T)@Ak\n",
    "    M += Ak.T@ricc_wgt@Ak\n",
    "\n",
    "    G[(inpt_off - all_t_state_cvec.size):inpt_off,:] = all_t_state_cmat@Bk\n",
    "    G[inpt_off:cnst_off,:] = block_diag(*((all_t_input_cmat,)*num_step))\n",
    "    G[cnst_off:] = final_state_cmat@Bk\n",
    "\n",
    "    S[(inpt_off - all_t_state_cvec.size):inpt_off,:] = -all_t_state_cmat@Ak\n",
    "    S[inpt_off:cnst_off,:] = np.zeros((all_t_input_cvec.size*num_step, stat_mat.shape[1]), float)\n",
    "    S[cnst_off:] = -final_state_cmat@Ak\n",
    "\n",
    "    W = np.block([np.tile(all_t_state_cvec, (num_step,)),\n",
    "        np.tile(all_t_input_cvec, (num_step,)), final_state_cvec])[:,np.newaxis]\n",
    "\n",
    "    return H, Z, M, G, W, S, initl_state_cmat, initl_state_cvec[:,np.newaxis]"
   ]
  },
  {
   "attachments": {},
   "cell_type": "markdown",
   "metadata": {},
   "source": [
    "# Example 10.4.1\n",
    "\n",
    "The next cells will execute the example problem solution and discuss the results.  First, set up the problem statement:"
   ]
  },
  {
   "cell_type": "code",
   "execution_count": null,
   "metadata": {},
   "outputs": [],
   "source": [
    "A = np.array([[ 1.0,  1.0], [ 0.0,  1.0]], float)\n",
    "B = np.array([[ 0.0], [ 1.0]], float)\n",
    "C = np.array([[ 1.0,  2.0]], float)\n",
    "D = np.array([[ 0.0]], float)\n",
    "\n",
    "Q = np.array([[ 1.0,  0.0], [ 0.0,  1.0]], float)\n",
    "R = np.array([[ 0.01]], float)\n",
    "\n",
    "x_lbound = np.array([-10.0, -10.0], float)\n",
    "x_ubound = np.array([ 10.0,  10.0], float)\n",
    "y_lbound = np.array([-25.0], float)\n",
    "y_ubound = np.array([ 25.0], float)\n",
    "u_lbound = np.array([-1.0], float)\n",
    "u_ubound = np.array([ 1.0], float)\n",
    "\n",
    "AT = np.array([\n",
    "    [ 0.6136,  1.6099],\n",
    "    [-0.3742, -0.3682],\n",
    "    [-0.6136, -1.6099],\n",
    "    [ 0.3742,  0.3682]], float)\n",
    "\n",
    "bT = np.array([1.0, 1.0, 1.0, 1.0], float)\n",
    "\n",
    "N = 10"
   ]
  },
  {
   "attachments": {},
   "cell_type": "markdown",
   "metadata": {},
   "source": [
    "Now compute the final time step error weight which makes this problem equivalent to a LQR prolem."
   ]
  },
  {
   "cell_type": "code",
   "execution_count": null,
   "metadata": {},
   "outputs": [],
   "source": [
    "P = solve_discrete_are(A, B, Q, R)"
   ]
  },
  {
   "attachments": {},
   "cell_type": "markdown",
   "metadata": {},
   "source": [
    "Now call the helper function which will take the standard LQR problem and convert it into a MPC problem with N time steps, the desired input, state, and output constraints at all time steps, parameter constraints that match the state and output constraints, and the desired final time step constraints.  The resulting arrays define the quadratic program equivalent to the desired MPC problem."
   ]
  },
  {
   "cell_type": "code",
   "execution_count": null,
   "metadata": {},
   "outputs": [],
   "source": [
    "Hs, Zs, Ms, Gs, Ws, Ss, CRa, CRb = make_LQR_MPC_QP(A, B, P, Q, R, N,\n",
    "    np.block([[-np.identity(u_lbound.size, float)],\n",
    "              [ np.identity(u_ubound.size, float)]]),\n",
    "    np.block([-u_lbound,  u_ubound]),\n",
    "    np.block([[-np.identity(x_lbound.size, float)],\n",
    "              [ np.identity(x_ubound.size, float)], [-C], [ C]]),\n",
    "    np.block([-x_lbound,  x_ubound, -y_lbound,  y_ubound]),\n",
    "    np.block([[-np.identity(x_lbound.size, float)],\n",
    "              [ np.identity(x_ubound.size, float)], [-C], [ C]]),\n",
    "    np.block([-x_lbound,  x_ubound, -y_lbound,  y_ubound]),\n",
    "    AT, bT)"
   ]
  },
  {
   "attachments": {},
   "cell_type": "markdown",
   "metadata": {},
   "source": [
    "Convert the MPC quadratic program into a PPOPT mpQP object, process its constraints, execute the solution process, and save the result."
   ]
  },
  {
   "cell_type": "code",
   "execution_count": null,
   "metadata": {},
   "outputs": [],
   "source": [
    "prog = MPQP_Program(Gs, Ws, np.zeros((B.shape[1]*N,1), float), Zs, 2.0*Hs, CRa, CRb, Ss)\n",
    "\n",
    "prog.process_constraints()\n",
    "\n",
    "sltn = solve_mpqp(prog, mpqp_algorithm.combinatorial_parallel_exp)\n",
    "\n",
    "with open('example_10.4.1.pickle', 'wb') as f:\n",
    "    dump(sltn, f, protocol=HIGHEST_PROTOCOL)"
   ]
  },
  {
   "attachments": {},
   "cell_type": "markdown",
   "metadata": {},
   "source": [
    "Now we load the result and print out the parts which can be found in the book."
   ]
  },
  {
   "cell_type": "code",
   "execution_count": null,
   "metadata": {},
   "outputs": [],
   "source": [
    "with open('example_10.4.1.pickle', 'rb') as pickle_f:\n",
    "    sltn = load(pickle_f)\n",
    "\n",
    "print('number of critical regions: ' + str(len(sltn.critical_regions)))\n",
    "print('unconstrained region optimal control is:')\n",
    "print(sltn.critical_regions[0].A)\n",
    "print('CR_12 (after finding the matching region) optimal law:')\n",
    "print(sltn.critical_regions[12].A)\n",
    "print(sltn.critical_regions[12].b)\n",
    "print('CR_12 (after finding the matching region) region boundaries:')\n",
    "print(sltn.critical_regions[12].E)\n",
    "print(sltn.critical_regions[12].f)\n",
    "print('CR_90 (after finding the matching region) optimal law:')\n",
    "print(sltn.critical_regions[93].A)\n",
    "print(sltn.critical_regions[93].b)\n",
    "print('CR_90 (after finding the matching region) region boundaries:')\n",
    "print(sltn.critical_regions[93].E)\n",
    "print(sltn.critical_regions[93].f)"
   ]
  },
  {
   "attachments": {},
   "cell_type": "markdown",
   "metadata": {},
   "source": [
    "## Conclusions\n",
    "\n",
    "All matrices match exactly in Appendix A, but note that, in the book, they do not rescale the constraints as PPOPT does.  There is one minor exception: the book does not remove a couple of the redundant constraints from CRa and CRb (I verified that they are indeed redundant).  The critical regions in Tables 10.2 and 10.3 also match exactly (after locating the correct indices) and the number of critical regions match.  This code has been verified to the extent possible."
   ]
  },
  {
   "attachments": {},
   "cell_type": "markdown",
   "metadata": {},
   "source": [
    "# Example 11.2.1\n",
    "\n",
    "The next cells will execute the example problem solution and discuss the results.  First, set up the LQR problem statement.  The final time step error weight is the solution to the Riccati equation using the undisturbed system dynamics:"
   ]
  },
  {
   "cell_type": "code",
   "execution_count": 31,
   "metadata": {},
   "outputs": [],
   "source": [
    "A = np.array([[ 1.0,  1.0], [ 0.0,  1.0]], float)\n",
    "B = np.array([[ 0.0], [ 1.0]], float)\n",
    "\n",
    "Q = np.array([[ 1.0,  0.0], [ 0.0,  1.0]], float)\n",
    "R = np.array([[ 0.01]], float)\n",
    "\n",
    "P = solve_discrete_are(A, B, Q, R)"
   ]
  },
  {
   "attachments": {},
   "cell_type": "markdown",
   "metadata": {},
   "source": [
    "Now set up the constraints as before, but note the new final state constraints.  Also set the number of steps."
   ]
  },
  {
   "cell_type": "code",
   "execution_count": 32,
   "metadata": {},
   "outputs": [],
   "source": [
    "x_lbound = np.array([-10.0, -10.0], float)\n",
    "x_ubound = np.array([ 10.0,  10.0], float)\n",
    "y_lbound = np.array([-25.0], float)\n",
    "y_ubound = np.array([ 25.0], float)\n",
    "u_lbound = np.array([-1.0], float)\n",
    "u_ubound = np.array([ 1.0], float)\n",
    "\n",
    "AT = np.array([\n",
    "    [ 0.3358,  0.8809, -0.3336],\n",
    "    [-0.2553, -0.2512,  0.9336],\n",
    "    [-0.0001, -0.0001,  1.0000],\n",
    "    [ 0.0001,  0.0001, -1.0000],\n",
    "    [ 0.2553,  0.2512, -0.9336],\n",
    "    [-0.3358, -0.8809,  0.3336]], float)\n",
    "bT = np.array([ 0.5472, 0.6823, 0.6961, 0.6961, 0.6823, 0.5472], float)\n",
    "\n",
    "N = 10"
   ]
  },
  {
   "attachments": {},
   "cell_type": "markdown",
   "metadata": {},
   "source": [
    "Now define the disturbance parameters.  B_tilde is the disturbance gain matrix; the component of the next state due to the disturbance.\n",
    "\n",
    "One might naively suppose that one should handle disturbance bounds as with state bounds because they are now part of the state.  This is incorrect.  Constraints processing cannot handle trivial constraints with an all-zeros vector; the disturbance constraints would add these if we included the disturbance constraints with the state constraints because we will zero the disturbance row of the A matrix.\n",
    "\n",
    "Note that the influence of the disturbance on the system is fully accounted-for through its inclusion in matrix A; not including disturbance constraints would not alter the modeled impact of the disturbance.\n",
    "Note that the disturbance is, in fact, just part of the parameter vector for the optimization process; disturbance constraints should be involved in the parameter constraints only."
   ]
  },
  {
   "cell_type": "code",
   "execution_count": 33,
   "metadata": {},
   "outputs": [],
   "source": [
    "B_tilde = np.array([[-1.0], [ 1.0]], float)\n",
    "\n",
    "d_lbound = np.array([-0.5], float)\n",
    "d_ubound = np.array([ 0.5], float)"
   ]
  },
  {
   "attachments": {},
   "cell_type": "markdown",
   "metadata": {},
   "source": [
    "The state vector has the disturbance appended to it, so we must add the  linear relationship of the disturbance to the state update as a column in A.  The disturbance is an exogeneous state so the dynamics cannot update it, hence the row of the equation of motion corresponding to the disturbance is all zeros except for the disturbance column.  This column carries the disturbance through every time step (because it is constant).\n",
    "\n",
    "The input does not directly affect the disturbance, so the disturbance row of B is zero.\n",
    "\n",
    "The disturbance does not directly impact the output, so append a zero column to C."
   ]
  },
  {
   "cell_type": "code",
   "execution_count": 34,
   "metadata": {},
   "outputs": [],
   "source": [
    "A = np.block([[A, B_tilde], [np.array([0.0, 0.0, 1.0], float)]])\n",
    "B = np.block([[B], [np.zeros((1, 1), float)]])\n",
    "C = np.block([[C, np.zeros((1, 1), float)]])"
   ]
  },
  {
   "attachments": {},
   "cell_type": "markdown",
   "metadata": {},
   "source": [
    "The state was augmented, so Q and P must also be augmented so that we can create the quadratic program; assign zero weight to the disturbance because it is a parameter only (the objective function term that includes it cannot be affected by the decision variables and therefore can only offset the objective value) and cannot alter the optimum via the objective function (its effect is only felt through the constraints)\n",
    "\n",
    "Note that the optimizer must now alter the decision variables directly to counter-act the effect of the constant disturbance in the equation of motion; the decision variables become functions of the disturbance to optimize the objective in the presence of the disturbance (like a feed-forward path if the setpoint were to be viewed as a disturbance)"
   ]
  },
  {
   "cell_type": "code",
   "execution_count": 35,
   "metadata": {},
   "outputs": [],
   "source": [
    "Q = np.block([[Q, np.zeros((2, 1), float)], [np.zeros((1, 3), float)]])\n",
    "P = np.block([[P, np.zeros((2, 1), float)], [np.zeros((1, 3), float)]])"
   ]
  },
  {
   "attachments": {},
   "cell_type": "markdown",
   "metadata": {},
   "source": [
    "Now call the helper function which will take the standard LQR problem and convert it into a MPC problem with N time steps, the desired input, state, and output constraints at all time steps, parameter constraints that match the state and output constraints, and the desired final time step constraints.  The resulting arrays define the quadratic program equivalent to the desired MPC problem.\n",
    "\n",
    "Unlike last time, we must now add some rows in the parameter constraints to enable us to bound the disturbance as desired.  We are also adjusting some other constraint matrices to account for the added state.  Remember that the disturbance bounds were not appended to the state bounds because this would create trivial constraints that PPOPT cannot handle."
   ]
  },
  {
   "cell_type": "code",
   "execution_count": 36,
   "metadata": {},
   "outputs": [],
   "source": [
    "I_Ax = np.identity(A.shape[0], float)[:2,:]\n",
    "\n",
    "Hs, Zs, Ms, Gs, Ws, Ss, CRa, CRb = make_LQR_MPC_QP(A, B, P, Q, R, N,\n",
    "    np.block([\n",
    "        [-np.identity(u_lbound.size, float)], [ np.identity(u_ubound.size, float)]]),\n",
    "    np.block([-u_lbound,  u_ubound]),\n",
    "    np.block([[-I_Ax], [ I_Ax], [-C], [ C],\n",
    "        [np.array([[  0.0,  0.0, -1.0]])], [np.array([[  0.0,  0.0,  1.0]])]]),\n",
    "    np.block([-x_lbound,  x_ubound, -y_lbound,  y_ubound, -d_lbound,  d_ubound]),\n",
    "    np.block([[-I_Ax], [ I_Ax], [-C], [ C]]),\n",
    "    np.block([-x_lbound,  x_ubound, -y_lbound,  y_ubound]),\n",
    "    AT, bT)"
   ]
  },
  {
   "attachments": {},
   "cell_type": "markdown",
   "metadata": {},
   "source": [
    "Convert the MPC quadratic program into a PPOPT mpQP object, process its constraints, execute the solution process, and save the result."
   ]
  },
  {
   "cell_type": "code",
   "execution_count": null,
   "metadata": {},
   "outputs": [],
   "source": [
    "prog = MPQP_Program(Gs, Ws, np.zeros((B.shape[1]*N, 1), float), Zs, 2.0*Hs, CRa, CRb, Ss)\n",
    "\n",
    "prog.process_constraints()\n",
    "\n",
    "sltn = solve_mpqp(prog, mpqp_algorithm.combinatorial_parallel_exp)\n",
    "\n",
    "with open('example_11.2.1.pickle', 'wb') as f:\n",
    "    dump(sltn, f, protocol=HIGHEST_PROTOCOL)"
   ]
  },
  {
   "attachments": {},
   "cell_type": "markdown",
   "metadata": {},
   "source": [
    "Now we load the result and print out the parts which can be found in the book."
   ]
  },
  {
   "cell_type": "code",
   "execution_count": null,
   "metadata": {},
   "outputs": [],
   "source": [
    "with open('example_11.2.1.pickle', 'rb') as pickle_f:\n",
    "    sltn = load(pickle_f)\n",
    "\n",
    "print('number of critical regions: ' + str(len(sltn.critical_regions)))\n",
    "guess = 48\n",
    "print('CR_50 (after finding the matching region) optimal law:')\n",
    "print(sltn.critical_regions[guess].A)\n",
    "print(sltn.critical_regions[guess].b)\n",
    "print('CR_50 (after finding the matching region) region boundaries:')\n",
    "print(sltn.critical_regions[guess].E)\n",
    "print(sltn.critical_regions[guess].f)"
   ]
  },
  {
   "attachments": {},
   "cell_type": "markdown",
   "metadata": {},
   "source": [
    "## Conclusions\n",
    "\n",
    "The non-disturbance portion of the solution exactly matches the previous example; this seems why the authors of the book decided not to include an appendix for it.  There is a critical region in my solution that exactly matches the one in Table 11.2, so this disturbance rejection code is verified to the extent possible."
   ]
  }
 ],
 "metadata": {
  "kernelspec": {
   "display_name": "Python 3",
   "language": "python",
   "name": "python3"
  },
  "language_info": {
   "codemirror_mode": {
    "name": "ipython",
    "version": 3
   },
   "file_extension": ".py",
   "mimetype": "text/x-python",
   "name": "python",
   "nbconvert_exporter": "python",
   "pygments_lexer": "ipython3",
   "version": "3.8.10"
  },
  "orig_nbformat": 4
 },
 "nbformat": 4,
 "nbformat_minor": 2
}
